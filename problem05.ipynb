{
 "cells": [
  {
   "cell_type": "code",
   "execution_count": 24,
   "metadata": {
    "collapsed": true
   },
   "outputs": [],
   "source": [
    "def problem05a(vals):\n",
    "    n_vals = len(vals)\n",
    "    n_steps = 0\n",
    "    ind = 0\n",
    "    while True:\n",
    "        current_val = vals[ind]\n",
    "        vals[ind] += 1\n",
    "        ind += current_val\n",
    "        n_steps += 1\n",
    "        if (ind < 0) or (ind >= n_vals):\n",
    "            break\n",
    "    return n_steps"
   ]
  },
  {
   "cell_type": "code",
   "execution_count": 25,
   "metadata": {
    "collapsed": false
   },
   "outputs": [
    {
     "data": {
      "text/plain": [
       "5"
      ]
     },
     "execution_count": 25,
     "metadata": {},
     "output_type": "execute_result"
    }
   ],
   "source": [
    "problem05a([0, 3, 0, 1, -3])"
   ]
  },
  {
   "cell_type": "code",
   "execution_count": 19,
   "metadata": {
    "collapsed": true
   },
   "outputs": [],
   "source": [
    "input_fname = 'problem05_input.txt'\n",
    "with open(input_fname) as f:\n",
    "    vals = [int(line.rstrip()) for line in f]"
   ]
  },
  {
   "cell_type": "code",
   "execution_count": 5,
   "metadata": {
    "collapsed": false
   },
   "outputs": [
    {
     "data": {
      "text/plain": [
       "372671"
      ]
     },
     "execution_count": 5,
     "metadata": {},
     "output_type": "execute_result"
    }
   ],
   "source": [
    "problem05a(vals)"
   ]
  },
  {
   "cell_type": "code",
   "execution_count": 22,
   "metadata": {
    "collapsed": true
   },
   "outputs": [],
   "source": [
    "def problem05b(vals):\n",
    "    n_vals = len(vals)\n",
    "    n_steps = 0\n",
    "    ind = 0\n",
    "    while True:\n",
    "        current_val = vals[ind]\n",
    "        if current_val >= 3:\n",
    "            vals[ind] -= 1\n",
    "        else:\n",
    "            vals[ind] += 1\n",
    "        ind += current_val\n",
    "        n_steps += 1\n",
    "        if (ind < 0) or (ind >= n_vals):\n",
    "            break\n",
    "    return n_steps"
   ]
  },
  {
   "cell_type": "code",
   "execution_count": 14,
   "metadata": {
    "collapsed": false
   },
   "outputs": [
    {
     "name": "stdout",
     "output_type": "stream",
     "text": [
      "[2, 3, 2, 3, -1]\n"
     ]
    },
    {
     "data": {
      "text/plain": [
       "10"
      ]
     },
     "execution_count": 14,
     "metadata": {},
     "output_type": "execute_result"
    }
   ],
   "source": [
    "problem05b([0, 3, 0, 1, -3])"
   ]
  },
  {
   "cell_type": "code",
   "execution_count": 23,
   "metadata": {
    "collapsed": false
   },
   "outputs": [
    {
     "data": {
      "text/plain": [
       "25608480"
      ]
     },
     "execution_count": 23,
     "metadata": {},
     "output_type": "execute_result"
    }
   ],
   "source": [
    "input_fname = 'problem05_input.txt'\n",
    "with open(input_fname) as f:\n",
    "    vals = [int(line.rstrip()) for line in f]\n",
    "problem05b(vals)"
   ]
  }
 ],
 "metadata": {
  "kernelspec": {
   "display_name": "Python 2",
   "language": "python",
   "name": "python2"
  },
  "language_info": {
   "codemirror_mode": {
    "name": "ipython",
    "version": 2
   },
   "file_extension": ".py",
   "mimetype": "text/x-python",
   "name": "python",
   "nbconvert_exporter": "python",
   "pygments_lexer": "ipython2",
   "version": "2.7.13"
  }
 },
 "nbformat": 4,
 "nbformat_minor": 2
}
