{
 "cells": [
  {
   "cell_type": "code",
   "execution_count": 1,
   "metadata": {
    "collapsed": false
   },
   "outputs": [],
   "source": [
    "def problem07a(input_fname):\n",
    "    discs = {}\n",
    "    for line in open(input_fname):\n",
    "        tokens = line.split()\n",
    "        add_entry(discs, tokens)\n",
    "    link_programs(discs)\n",
    "    return find_bottom(discs)\n",
    "\n",
    "class Disc(object):\n",
    "    \n",
    "    def __init__(self, weight, above_name_list):\n",
    "        self.weight = weight\n",
    "        self.above = above_name_list\n",
    "        self.below = None\n",
    "        \n",
    "def add_entry(discs, tokens):\n",
    "    name = tokens[0]\n",
    "    weight = int(tokens[1][1:-1])\n",
    "    discs[name] = Disc(weight, [t.rstrip(',') for t in tokens[3:]])\n",
    "\n",
    "def link_programs(discs):\n",
    "    for name, disc in discs.items():\n",
    "        for above_name in disc.above:\n",
    "            discs[above_name].below = name\n",
    "\n",
    "def find_bottom(discs):\n",
    "    for name, disc in discs.items():\n",
    "        if disc.below is None:\n",
    "            return name\n",
    "    return None"
   ]
  },
  {
   "cell_type": "code",
   "execution_count": 2,
   "metadata": {
    "collapsed": false
   },
   "outputs": [
    {
     "data": {
      "text/plain": [
       "'tknk'"
      ]
     },
     "execution_count": 2,
     "metadata": {},
     "output_type": "execute_result"
    }
   ],
   "source": [
    "problem07a('problem07_test.txt')"
   ]
  },
  {
   "cell_type": "code",
   "execution_count": 3,
   "metadata": {
    "collapsed": true
   },
   "outputs": [],
   "source": [
    "import numpy as np"
   ]
  },
  {
   "cell_type": "code",
   "execution_count": 4,
   "metadata": {
    "collapsed": false
   },
   "outputs": [],
   "source": [
    "def problem07b(input_fname):\n",
    "    discs = {}\n",
    "    for line in open(input_fname):\n",
    "        tokens = line.split()\n",
    "        add_entry(discs, tokens)\n",
    "    link_programs(discs)\n",
    "    return check_weights(discs, discs.values())[1]\n",
    "\n",
    "class Disc(object):\n",
    "    \n",
    "    def __init__(self, weight, above_name_list):\n",
    "        self.weight = weight\n",
    "        self.above_names = above_name_list\n",
    "        self.above = []\n",
    "        self.below_name = []\n",
    "        \n",
    "    def get_total_weight(self):\n",
    "        return self.weight + sum([above.get_total_weight() for above in self.above])\n",
    "        \n",
    "def add_entry(discs, tokens):\n",
    "    name = tokens[0]\n",
    "    weight = int(tokens[1][1:-1])\n",
    "    discs[name] = Disc(weight, [t.rstrip(',') for t in tokens[3:]])\n",
    "\n",
    "def link_programs(discs):\n",
    "    for name, d in discs.items():\n",
    "        for above_name in d.above_names:\n",
    "            d.above.append(discs[above_name])\n",
    "            discs[above_name].below_name = name\n",
    "\n",
    "def check_weights(discs, disc_list):\n",
    "    for d in disc_list:\n",
    "        totals = np.array([above.get_total_weight() for above in d.above])\n",
    "        if len(totals) == 1:\n",
    "            print 'Found a disc with only one disc above'\n",
    "            continue\n",
    "        if len(np.unique(totals)) != 1:\n",
    "            for w in totals:\n",
    "                if np.sum(w == totals) == 1:\n",
    "                    bad_ind = np.where(w == totals)[0][0]\n",
    "                    offender = discs[d.above_names[bad_ind]]\n",
    "                    bad_total = totals[bad_ind]\n",
    "                    good_total = totals[bad_ind-1]\n",
    "                    delta = good_total - bad_total\n",
    "                    above_ok, correct_weight = check_weights(discs, [offender])\n",
    "                    if above_ok:\n",
    "#                         print 'Above discs were OK'\n",
    "                        return False, offender.weight + delta\n",
    "                    else:\n",
    "#                         print 'Above discs were not OK'\n",
    "                        return above_ok, correct_weight\n",
    "    return True, None"
   ]
  },
  {
   "cell_type": "code",
   "execution_count": 5,
   "metadata": {
    "collapsed": false
   },
   "outputs": [
    {
     "data": {
      "text/plain": [
       "299"
      ]
     },
     "execution_count": 5,
     "metadata": {},
     "output_type": "execute_result"
    }
   ],
   "source": [
    "problem07b('problem07_input.txt')"
   ]
  }
 ],
 "metadata": {
  "kernelspec": {
   "display_name": "Python 2",
   "language": "python",
   "name": "python2"
  },
  "language_info": {
   "codemirror_mode": {
    "name": "ipython",
    "version": 2
   },
   "file_extension": ".py",
   "mimetype": "text/x-python",
   "name": "python",
   "nbconvert_exporter": "python",
   "pygments_lexer": "ipython2",
   "version": "2.7.13"
  }
 },
 "nbformat": 4,
 "nbformat_minor": 2
}
