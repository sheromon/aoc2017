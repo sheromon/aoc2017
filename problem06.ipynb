{
 "cells": [
  {
   "cell_type": "code",
   "execution_count": 1,
   "metadata": {
    "collapsed": true
   },
   "outputs": [],
   "source": [
    "import numpy as np"
   ]
  },
  {
   "cell_type": "code",
   "execution_count": 2,
   "metadata": {
    "collapsed": true
   },
   "outputs": [],
   "source": [
    "def redistribute(banks):\n",
    "    n_banks = len(banks)\n",
    "    ind = np.argmax(banks)\n",
    "    n_blocks = banks[ind]\n",
    "    n_add_all = n_blocks // n_banks\n",
    "    n_remain = n_blocks % n_banks\n",
    "    updated_banks = np.copy(banks)\n",
    "    updated_banks[ind] = 0\n",
    "    updated_banks += n_add_all\n",
    "    updated_banks[ind+1:ind+n_remain+1] += 1\n",
    "    if ind+n_remain >= n_banks:\n",
    "        updated_banks[:ind+n_remain+1-n_banks] += 1\n",
    "    return updated_banks"
   ]
  },
  {
   "cell_type": "code",
   "execution_count": 3,
   "metadata": {
    "collapsed": false
   },
   "outputs": [],
   "source": [
    "def problem06a(banks):\n",
    "    n_banks = len(banks)\n",
    "    results = np.empty([0, n_banks])\n",
    "    while True:\n",
    "        banks = redistribute(banks)\n",
    "        #if (results.shape[0] < 20) and (results.shape[0] > 14):\n",
    "        #    print(banks, np.sum(banks))\n",
    "        duplicate_row_inds = np.all(results - banks == 0, axis=1)\n",
    "        if np.any(duplicate_row_inds):\n",
    "            break\n",
    "        results = np.append(results, banks.reshape([1, n_banks]), axis=0)\n",
    "    row_sums = np.sum(results, axis=1)\n",
    "    cycle_len = len(results) - np.where(duplicate_row_inds)[0][0]\n",
    "    return len(results) + 1, cycle_len"
   ]
  },
  {
   "cell_type": "code",
   "execution_count": 4,
   "metadata": {
    "collapsed": false
   },
   "outputs": [
    {
     "data": {
      "text/plain": [
       "(5, 4)"
      ]
     },
     "execution_count": 4,
     "metadata": {},
     "output_type": "execute_result"
    }
   ],
   "source": [
    "banks = np.array([0, 2, 7, 0])\n",
    "problem06a(banks)"
   ]
  },
  {
   "cell_type": "code",
   "execution_count": 5,
   "metadata": {
    "collapsed": false
   },
   "outputs": [
    {
     "data": {
      "text/plain": [
       "(11137, 1037)"
      ]
     },
     "execution_count": 5,
     "metadata": {},
     "output_type": "execute_result"
    }
   ],
   "source": [
    "banks = np.array([14, 0, 15, 12, 11, 11, 3, 5, 1, 6, 8, 4, 9, 1, 8, 4])\n",
    "problem06a(banks)"
   ]
  }
 ],
 "metadata": {
  "kernelspec": {
   "display_name": "Python 2",
   "language": "python",
   "name": "python2"
  },
  "language_info": {
   "codemirror_mode": {
    "name": "ipython",
    "version": 2
   },
   "file_extension": ".py",
   "mimetype": "text/x-python",
   "name": "python",
   "nbconvert_exporter": "python",
   "pygments_lexer": "ipython2",
   "version": "2.7.13"
  }
 },
 "nbformat": 4,
 "nbformat_minor": 2
}
