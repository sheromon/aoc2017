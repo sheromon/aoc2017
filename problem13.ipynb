{
 "cells": [
  {
   "cell_type": "code",
   "execution_count": 6,
   "metadata": {
    "collapsed": true
   },
   "outputs": [],
   "source": [
    "def parse_input(fname):\n",
    "    lines = [line for line in open(fname)]\n",
    "    dict_str = '{' + ','.join(lines) + '}'\n",
    "    layers = eval(dict_str)\n",
    "    return layers"
   ]
  },
  {
   "cell_type": "code",
   "execution_count": 21,
   "metadata": {
    "collapsed": true
   },
   "outputs": [],
   "source": [
    "def calc_severity(layers):\n",
    "    total_severity = 0\n",
    "    for depth, rng in layers.items():\n",
    "        n_scan_steps = 2 * (rng - 1)\n",
    "        caught = (depth % n_scan_steps) == 0\n",
    "        if caught:\n",
    "            total_severity += depth * rng\n",
    "    return total_severity"
   ]
  },
  {
   "cell_type": "code",
   "execution_count": 22,
   "metadata": {
    "collapsed": false
   },
   "outputs": [],
   "source": [
    "def problem13a(fname):\n",
    "    layers = parse_input(fname)\n",
    "    total_severity = calc_severity(layers)\n",
    "    return total_severity"
   ]
  },
  {
   "cell_type": "code",
   "execution_count": 23,
   "metadata": {
    "collapsed": false
   },
   "outputs": [
    {
     "data": {
      "text/plain": [
       "3184"
      ]
     },
     "execution_count": 23,
     "metadata": {},
     "output_type": "execute_result"
    }
   ],
   "source": [
    "problem13a('problem13_input.txt')"
   ]
  },
  {
   "cell_type": "code",
   "execution_count": 20,
   "metadata": {
    "collapsed": false
   },
   "outputs": [
    {
     "name": "stdout",
     "output_type": "stream",
     "text": [
      "{0: 4, 1: 2, 4: 6, 6: 6}\n"
     ]
    }
   ],
   "source": [
    "layers = parse_input('problem13_test.txt')\n",
    "for depth, rng in layers.items():\n",
    "    layers[depth] = 2 * (rng - 1)\n",
    "print layers"
   ]
  },
  {
   "cell_type": "code",
   "execution_count": 28,
   "metadata": {
    "collapsed": true
   },
   "outputs": [],
   "source": [
    "def caught(layers, delay):\n",
    "    total_severity = 0\n",
    "    for depth, rng in layers.items():\n",
    "        n_scan_steps = 2 * (rng - 1)\n",
    "        step = delay + depth\n",
    "        caught = (step % n_scan_steps) == 0\n",
    "        if caught:\n",
    "            return True\n",
    "    return False"
   ]
  },
  {
   "cell_type": "code",
   "execution_count": 29,
   "metadata": {
    "collapsed": true
   },
   "outputs": [],
   "source": [
    "def problem13b(fname):\n",
    "    layers = parse_input(fname)\n",
    "    delay = 0\n",
    "    while caught(layers, delay) != 0:\n",
    "        delay += 1\n",
    "    return delay"
   ]
  },
  {
   "cell_type": "code",
   "execution_count": 31,
   "metadata": {
    "collapsed": false
   },
   "outputs": [
    {
     "data": {
      "text/plain": [
       "3878062"
      ]
     },
     "execution_count": 31,
     "metadata": {},
     "output_type": "execute_result"
    }
   ],
   "source": [
    "problem13b('problem13_input.txt')"
   ]
  }
 ],
 "metadata": {
  "kernelspec": {
   "display_name": "Python 2",
   "language": "python",
   "name": "python2"
  },
  "language_info": {
   "codemirror_mode": {
    "name": "ipython",
    "version": 2
   },
   "file_extension": ".py",
   "mimetype": "text/x-python",
   "name": "python",
   "nbconvert_exporter": "python",
   "pygments_lexer": "ipython2",
   "version": "2.7.13"
  }
 },
 "nbformat": 4,
 "nbformat_minor": 2
}
