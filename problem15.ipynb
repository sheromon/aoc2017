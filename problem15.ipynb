{
 "cells": [
  {
   "cell_type": "code",
   "execution_count": 5,
   "metadata": {
    "collapsed": true
   },
   "outputs": [],
   "source": [
    "def problem15a(a, b, n_iters=5):\n",
    "    a_mult = 16807\n",
    "    b_mult = 48271\n",
    "    divisor = 2147483647\n",
    "    total = 0\n",
    "    for _ in range(n_iters):\n",
    "        a = (a * a_mult) % divisor\n",
    "        b = (b * b_mult) % divisor\n",
    "        a_bin = '{:032b}'.format(a)\n",
    "        b_bin = '{:032b}'.format(b)\n",
    "        if a_bin[-16:] == b_bin[-16:]:\n",
    "            total += 1\n",
    "    return total"
   ]
  },
  {
   "cell_type": "code",
   "execution_count": 8,
   "metadata": {
    "collapsed": false
   },
   "outputs": [
    {
     "data": {
      "text/plain": [
       "588"
      ]
     },
     "execution_count": 8,
     "metadata": {},
     "output_type": "execute_result"
    }
   ],
   "source": [
    "problem15a(a=65, b=8921, n_iters=int(40e6))"
   ]
  },
  {
   "cell_type": "code",
   "execution_count": 9,
   "metadata": {
    "collapsed": false
   },
   "outputs": [
    {
     "data": {
      "text/plain": [
       "638"
      ]
     },
     "execution_count": 9,
     "metadata": {},
     "output_type": "execute_result"
    }
   ],
   "source": [
    "problem15a(a=289, b=629, n_iters=int(40e6))"
   ]
  },
  {
   "cell_type": "code",
   "execution_count": 21,
   "metadata": {
    "collapsed": true
   },
   "outputs": [],
   "source": [
    "def problem15b(a, b, n_iters=5):\n",
    "    a_mult = 16807\n",
    "    b_mult = 48271\n",
    "    divisor = 2147483647\n",
    "    total = 0\n",
    "    for _ in range(n_iters):\n",
    "        a = (a * a_mult) % divisor\n",
    "        while (a % 4) != 0:\n",
    "            a = (a * a_mult) % divisor\n",
    "        b = (b * b_mult) % divisor\n",
    "        while (b % 8) != 0:\n",
    "            b = (b * b_mult) % divisor\n",
    "        a_bin = '{:032b}'.format(a)\n",
    "        b_bin = '{:032b}'.format(b)\n",
    "        if a_bin[-16:] == b_bin[-16:]:\n",
    "            total += 1\n",
    "    return total"
   ]
  },
  {
   "cell_type": "code",
   "execution_count": 22,
   "metadata": {
    "collapsed": false
   },
   "outputs": [
    {
     "data": {
      "text/plain": [
       "309"
      ]
     },
     "execution_count": 22,
     "metadata": {},
     "output_type": "execute_result"
    }
   ],
   "source": [
    "problem15b(a=65, b=8921, n_iters=int(5e6))"
   ]
  },
  {
   "cell_type": "code",
   "execution_count": 23,
   "metadata": {
    "collapsed": false
   },
   "outputs": [
    {
     "data": {
      "text/plain": [
       "343"
      ]
     },
     "execution_count": 23,
     "metadata": {},
     "output_type": "execute_result"
    }
   ],
   "source": [
    "problem15b(a=289, b=629, n_iters=int(5e6))"
   ]
  }
 ],
 "metadata": {
  "kernelspec": {
   "display_name": "Python 2",
   "language": "python",
   "name": "python2"
  },
  "language_info": {
   "codemirror_mode": {
    "name": "ipython",
    "version": 2
   },
   "file_extension": ".py",
   "mimetype": "text/x-python",
   "name": "python",
   "nbconvert_exporter": "python",
   "pygments_lexer": "ipython2",
   "version": "2.7.13"
  }
 },
 "nbformat": 4,
 "nbformat_minor": 2
}
