{
 "cells": [
  {
   "cell_type": "code",
   "execution_count": 1,
   "metadata": {
    "collapsed": true
   },
   "outputs": [],
   "source": [
    "import numpy as np"
   ]
  },
  {
   "cell_type": "code",
   "execution_count": 2,
   "metadata": {
    "collapsed": false
   },
   "outputs": [],
   "source": [
    "def get_loop_break_points(n_loops):\n",
    "    first_val = 1\n",
    "    num_in_loop = 8 * np.arange(n_loops)\n",
    "    last_in_loop = first_val + np.cumsum(num_in_loop)\n",
    "    return last_in_loop"
   ]
  },
  {
   "cell_type": "code",
   "execution_count": 3,
   "metadata": {
    "collapsed": false
   },
   "outputs": [
    {
     "data": {
      "text/plain": [
       "array([  1,   9,  25,  49,  81, 121])"
      ]
     },
     "execution_count": 3,
     "metadata": {},
     "output_type": "execute_result"
    }
   ],
   "source": [
    "get_loop_break_points(6)"
   ]
  },
  {
   "cell_type": "code",
   "execution_count": 4,
   "metadata": {
    "collapsed": true
   },
   "outputs": [],
   "source": [
    "def get_loop_midpoints(last_val, iloop):\n",
    "    return np.linspace(last_val-7*iloop, last_val-iloop, 4, dtype=np.int32)"
   ]
  },
  {
   "cell_type": "code",
   "execution_count": 5,
   "metadata": {
    "collapsed": false
   },
   "outputs": [
    {
     "data": {
      "text/plain": [
       "array([11, 15, 19, 23])"
      ]
     },
     "execution_count": 5,
     "metadata": {},
     "output_type": "execute_result"
    }
   ],
   "source": [
    "get_loop_midpoints(25, 2)"
   ]
  },
  {
   "cell_type": "code",
   "execution_count": 6,
   "metadata": {
    "collapsed": false
   },
   "outputs": [],
   "source": [
    "def problem03a(number):\n",
    "    n_loop = int((np.ceil(np.sqrt(number)))/2)\n",
    "    last_in_loop = (2 * n_loop + 1)**2\n",
    "    loop_midpoints = get_loop_midpoints(last_in_loop, n_loop)\n",
    "    dist_to_middle = np.min(np.abs(number - loop_midpoints))\n",
    "    dist_to_center = dist_to_middle + n_loop\n",
    "    return dist_to_center"
   ]
  },
  {
   "cell_type": "code",
   "execution_count": 7,
   "metadata": {
    "collapsed": false
   },
   "outputs": [
    {
     "data": {
      "text/plain": [
       "0"
      ]
     },
     "execution_count": 7,
     "metadata": {},
     "output_type": "execute_result"
    }
   ],
   "source": [
    "problem03a(1)"
   ]
  },
  {
   "cell_type": "code",
   "execution_count": 8,
   "metadata": {
    "collapsed": false
   },
   "outputs": [
    {
     "data": {
      "text/plain": [
       "3"
      ]
     },
     "execution_count": 8,
     "metadata": {},
     "output_type": "execute_result"
    }
   ],
   "source": [
    "problem03a(12)"
   ]
  },
  {
   "cell_type": "code",
   "execution_count": 9,
   "metadata": {
    "collapsed": false
   },
   "outputs": [
    {
     "data": {
      "text/plain": [
       "2"
      ]
     },
     "execution_count": 9,
     "metadata": {},
     "output_type": "execute_result"
    }
   ],
   "source": [
    "problem03a(23)"
   ]
  },
  {
   "cell_type": "code",
   "execution_count": 10,
   "metadata": {
    "collapsed": false
   },
   "outputs": [
    {
     "data": {
      "text/plain": [
       "31"
      ]
     },
     "execution_count": 10,
     "metadata": {},
     "output_type": "execute_result"
    }
   ],
   "source": [
    "problem03a(1024)"
   ]
  },
  {
   "cell_type": "code",
   "execution_count": 11,
   "metadata": {
    "collapsed": false
   },
   "outputs": [
    {
     "data": {
      "text/plain": [
       "552"
      ]
     },
     "execution_count": 11,
     "metadata": {},
     "output_type": "execute_result"
    }
   ],
   "source": [
    "problem03a(325489)"
   ]
  },
  {
   "cell_type": "code",
   "execution_count": 57,
   "metadata": {
    "collapsed": false
   },
   "outputs": [],
   "source": [
    "def problem03b(stop_val=325489):\n",
    "    spiral = np.zeros([5, 5], np.uint32)\n",
    "    ind = np.array([2, 2], dtype=np.uint16)\n",
    "    spiral[ind[0], ind[1]] = 1\n",
    "    rep = 0\n",
    "    n_steps = 0\n",
    "    sign = 1\n",
    "    while True:\n",
    "        if rep % 2 == 0:\n",
    "            row_or_col = 1\n",
    "            n_steps += 1\n",
    "            if rep % 4 == 0:\n",
    "                spiral = np.pad(spiral, [[1, 1,], [1, 1]], 'constant')\n",
    "                ind += 1\n",
    "        else:\n",
    "            row_or_col = 0\n",
    "            sign *= -1\n",
    "        for step in range(n_steps):\n",
    "            ind[row_or_col] += sign\n",
    "            row, col = ind[0], ind[1]\n",
    "            #print(row, col)\n",
    "            spiral[row, col] = np.sum(spiral[row-1:row+2, col-1:col+2])\n",
    "            current_val = spiral[row, col]\n",
    "            if current_val > stop_val:\n",
    "                print('Finished! Current value is', current_val)\n",
    "                return\n",
    "        rep += 1\n",
    "            #print(spiral)\n"
   ]
  },
  {
   "cell_type": "code",
   "execution_count": 15,
   "metadata": {
    "collapsed": false
   },
   "outputs": [
    {
     "data": {
      "text/plain": [
       "array([  0,   1,   2,   1,   5,   1,  12,   2,   1,  28,   3,   2,  63,\n",
       "        11,   9,   5, 157,  26,  21,  11, 385,  59])"
      ]
     },
     "execution_count": 15,
     "metadata": {},
     "output_type": "execute_result"
    }
   ],
   "source": [
    "vals = np.array([1, 1, 2, 4, 5, 10, 11, 23, 25, 26, 54, 57, 59, 122, 133, 142, 147, 304, 330, 351, 362, 747, 806])\n",
    "np.diff(vals)"
   ]
  },
  {
   "cell_type": "code",
   "execution_count": 59,
   "metadata": {
    "collapsed": false
   },
   "outputs": [
    {
     "name": "stdout",
     "output_type": "stream",
     "text": [
      "('Finished! Current value is', 330785)\n"
     ]
    }
   ],
   "source": [
    "problem03b()"
   ]
  }
 ],
 "metadata": {
  "kernelspec": {
   "display_name": "Python 2",
   "language": "python",
   "name": "python2"
  },
  "language_info": {
   "codemirror_mode": {
    "name": "ipython",
    "version": 2
   },
   "file_extension": ".py",
   "mimetype": "text/x-python",
   "name": "python",
   "nbconvert_exporter": "python",
   "pygments_lexer": "ipython2",
   "version": "2.7.13"
  }
 },
 "nbformat": 4,
 "nbformat_minor": 2
}
